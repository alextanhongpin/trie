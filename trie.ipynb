{
 "cells": [
  {
   "cell_type": "code",
   "execution_count": 193,
   "metadata": {
    "collapsed": true
   },
   "outputs": [],
   "source": [
    "class Node:\n",
    "    def __init__(self, char):\n",
    "        self.chars = 'abcdefghijklmnopqrstuvwxyz'\n",
    "        self.char = char\n",
    "        self._children = [None for i in range(len(self.chars))]\n",
    "\n",
    "    def contains(self, char):\n",
    "        index = self.chars.index(char) \n",
    "        return self._children[index] is not None\n",
    "    \n",
    "    def add(self, char):\n",
    "        index = self.chars.index(char) \n",
    "        self._children[index] = Node(char)\n",
    "        return self.children[index]\n",
    "    \n",
    "    def find(self, char):\n",
    "        index = self.chars.index(char) \n",
    "        return self._children[index]\n",
    "    \n",
    "    @property\n",
    "    def children(self):\n",
    "        return self._children"
   ]
  },
  {
   "cell_type": "code",
   "execution_count": 216,
   "metadata": {
    "collapsed": false
   },
   "outputs": [],
   "source": [
    "class Trie:\n",
    "    def __init__(self):\n",
    "        self.root = Node(None)\n",
    "    \n",
    "    def add(self, text):\n",
    "        child = self.root\n",
    "        for i, v in enumerate(text):\n",
    "            if child.contains(v):\n",
    "                child = child.find(v)\n",
    "            else:\n",
    "                child = child.add(v)\n",
    "        # TODO: Set child data\n",
    "        # child.set(hashvalue)\n",
    "\n",
    "    def print(self, root, index = 1):\n",
    "        for char in root.children:\n",
    "            if char is not None:\n",
    "                print(' ' * index, char.char)\n",
    "                self.print(char, index + 1)\n",
    "    \n",
    "    def find(self, text):\n",
    "        child = self.root\n",
    "        for i, v in enumerate(text):\n",
    "            child = child.find(v)\n",
    "    \n",
    "        out = [None for i in range(26)]\n",
    "        self.mine(child, out)\n",
    "        return [text + ''.join(i) for i in out if i is not None]\n",
    "\n",
    "    def mine(self, child, out):\n",
    "        if child is None:\n",
    "            return\n",
    "        valid = [c for c in child.children if c is not None]\n",
    "        for i, c in enumerate(valid):\n",
    "            if c is not None:\n",
    "                if out[i] is None:\n",
    "                    out[i] = []\n",
    "                out[i].append(c.char)\n",
    "                index = 'abcdefghijklmnopqrstuvwxyz'.index(c.char)\n",
    "                child = child._children[index]\n",
    "                self.mine(child, out)"
   ]
  },
  {
   "cell_type": "code",
   "execution_count": 217,
   "metadata": {
    "collapsed": false
   },
   "outputs": [
    {
     "name": "stdout",
     "output_type": "stream",
     "text": [
      "  c\n",
      "   a\n",
      "    r\n",
      "   r\n",
      "  f\n",
      "   o\n",
      "    o\n",
      "     d\n",
      "      i\n",
      "       e\n",
      "      r\n",
      "       e\n",
      "        r\n",
      "  h\n",
      "   a\n",
      "    r\n",
      "     o\n",
      "   e\n",
      "    l\n",
      "     l\n",
      "      o\n",
      "  p\n",
      "   i\n",
      "    c\n",
      "     k\n",
      "      l\n",
      "       e\n",
      "        d\n",
      "     t\n",
      "      u\n",
      "       r\n",
      "        e\n"
     ]
    },
    {
     "data": {
      "text/plain": [
       "['pickled', 'pict']"
      ]
     },
     "execution_count": 217,
     "metadata": {},
     "output_type": "execute_result"
    }
   ],
   "source": [
    "trie = Trie()\n",
    "trie.add('hello')\n",
    "trie.add('haro')\n",
    "trie.add('car')\n",
    "trie.add('cr')\n",
    "trie.add('pick')\n",
    "trie.add('picture')\n",
    "trie.add('pickled')\n",
    "trie.add('foo')\n",
    "trie.add('food')\n",
    "trie.add('foodrer')\n",
    "trie.add('foodie')\n",
    "trie.print(trie.root)\n",
    "\n",
    "trie.find('pic')\n",
    "# h = 'abcdefghijklmnopqrstuvwxyz'.index('h')\n",
    "# e = 'abcdefghijklmnopqrstuvwxyz'.index('a')\n",
    "# trie.root.children[i].children[e]"
   ]
  }
 ],
 "metadata": {
  "kernelspec": {
   "display_name": "Python 3",
   "language": "python",
   "name": "python3"
  },
  "language_info": {
   "codemirror_mode": {
    "name": "ipython",
    "version": 3
   },
   "file_extension": ".py",
   "mimetype": "text/x-python",
   "name": "python",
   "nbconvert_exporter": "python",
   "pygments_lexer": "ipython3",
   "version": "3.6.4"
  }
 },
 "nbformat": 4,
 "nbformat_minor": 2
}
