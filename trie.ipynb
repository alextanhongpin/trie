{
 "cells": [
  {
   "cell_type": "code",
   "execution_count": 2,
   "metadata": {
    "collapsed": true
   },
   "outputs": [],
   "source": [
    "from functools import reduce"
   ]
  },
  {
   "cell_type": "code",
   "execution_count": 3,
   "metadata": {
    "collapsed": true
   },
   "outputs": [],
   "source": [
    "class Node:\n",
    "    def __init__(self, char):\n",
    "        self.char = char\n",
    "        self.children = {}\n",
    "        self.end_of_word = False\n",
    "\n",
    "    def contains(self, char):\n",
    "        return char in self.children\n",
    "    \n",
    "    def add(self, char, end_of_word = False):\n",
    "        self.children[char] = Node(char)\n",
    "        self.children[char].end_of_word = end_of_word\n",
    "        return self.children[char]\n",
    "    \n",
    "    def find(self, char):\n",
    "        return self.children[char]"
   ]
  },
  {
   "cell_type": "code",
   "execution_count": 50,
   "metadata": {
    "collapsed": false
   },
   "outputs": [],
   "source": [
    "class Trie:\n",
    "    def __init__(self):\n",
    "        self.root = Node(None)\n",
    "    \n",
    "    def add(self, text):\n",
    "        child = self.root\n",
    "        text_len = len(text) - 1\n",
    "        for i, v in enumerate(text):\n",
    "            is_end_of_word = i == text_len\n",
    "            if child.contains(v):\n",
    "                child = child.find(v)\n",
    "            else:\n",
    "                child = child.add(v, is_end_of_word)\n",
    "        # TODO: Set child data\n",
    "        # child.set(hashvalue)\n",
    "\n",
    "    @staticmethod\n",
    "    def print(root, index = 1):\n",
    "        for char in root.children:\n",
    "            child_root = root.children[char]\n",
    "            if child_root is not None:\n",
    "                print(' ' * index, '{}{}'.format(child_root.char, '$' if child_root.end_of_word else ''))\n",
    "                Trie.print(child_root, index + 1)\n",
    "    \n",
    "    def find(self, prefix):\n",
    "        child = self.root\n",
    "        \n",
    "        # Iterate through the prefix\n",
    "        for i, v in enumerate(prefix):\n",
    "            child = child.find(v)\n",
    "\n",
    "        out = {}\n",
    "        for i, sub_child in enumerate(child.children.values()):\n",
    "            self.mine(sub_child, out, i + 1)\n",
    "        return out[0]\n",
    "\n",
    "    def mine(self, child, out, i):\n",
    "        has_children = len(child.children.keys()) > 0\n",
    "        if child.end_of_word and not has_children:\n",
    "            if 0 not in out:\n",
    "                out[0] = []\n",
    "            out[0].append(out[i] + child.char)\n",
    "        else:\n",
    "            if i not in out:\n",
    "                out[i] = ''\n",
    "            out[i] = '{}{}'.format(out[i], child.char)\n",
    "        for sub_child in child.children.values():\n",
    "            self.mine(sub_child, out, i)\n"
   ]
  },
  {
   "cell_type": "code",
   "execution_count": 53,
   "metadata": {
    "collapsed": false
   },
   "outputs": [
    {
     "name": "stdout",
     "output_type": "stream",
     "text": [
      "  h\n",
      "   e\n",
      "    l\n",
      "     l\n",
      "      o$\n",
      "   a\n",
      "    r\n",
      "     o$\n",
      "  c\n",
      "   a\n",
      "    r$\n",
      "   r$\n",
      "  p\n",
      "   i\n",
      "    c\n",
      "     k$\n",
      "      l\n",
      "       e\n",
      "        d$\n",
      "        s$\n",
      "        r$\n",
      "     t\n",
      "      u\n",
      "       r\n",
      "        e$\n",
      "  f\n",
      "   o\n",
      "    o$\n",
      "     d$\n",
      "      r\n",
      "       e\n",
      "        r$\n",
      "      i\n",
      "       e$\n",
      "   a\n",
      "    z\n",
      "     e\n",
      "      d$\n",
      "  a\n",
      "   m\n",
      "    a\n",
      "     z\n",
      "      i\n",
      "       n\n",
      "        g$\n",
      "      e\n",
      "       d$\n",
      "out: ['zing', 'zined']\n",
      "amazing\n",
      "amazined\n"
     ]
    }
   ],
   "source": [
    "trie = Trie()\n",
    "trie.add('hello')\n",
    "trie.add('haro')\n",
    "trie.add('car')\n",
    "trie.add('cr')\n",
    "trie.add('pick')\n",
    "trie.add('picture')\n",
    "trie.add('pickled')\n",
    "trie.add('pickles')\n",
    "trie.add('pickler')\n",
    "trie.add('foo')\n",
    "trie.add('amazing')\n",
    "trie.add('amazed')\n",
    "trie.add('fazed')\n",
    "trie.add('food')\n",
    "trie.add('foodrer')\n",
    "trie.add('foodie')\n",
    "\n",
    "Trie.print(trie.root)\n",
    "\n",
    "prefix = 'ama'\n",
    "out = trie.find(prefix)\n",
    "print('out:', out)\n",
    "\n",
    "for i in out:\n",
    "    print('{}{}'.format(prefix, i))"
   ]
  }
 ],
 "metadata": {
  "kernelspec": {
   "display_name": "Python 3",
   "language": "python",
   "name": "python3"
  },
  "language_info": {
   "codemirror_mode": {
    "name": "ipython",
    "version": 3
   },
   "file_extension": ".py",
   "mimetype": "text/x-python",
   "name": "python",
   "nbconvert_exporter": "python",
   "pygments_lexer": "ipython3",
   "version": "3.6.4"
  }
 },
 "nbformat": 4,
 "nbformat_minor": 2
}
